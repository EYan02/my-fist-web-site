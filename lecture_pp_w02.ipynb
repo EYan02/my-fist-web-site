{
  "nbformat": 4,
  "nbformat_minor": 0,
  "metadata": {
    "colab": {
      "provenance": [],
      "include_colab_link": true
    },
    "kernelspec": {
      "name": "python3",
      "display_name": "Python 3"
    },
    "language_info": {
      "name": "python"
    }
  },
  "cells": [
    {
      "cell_type": "markdown",
      "metadata": {
        "id": "view-in-github",
        "colab_type": "text"
      },
      "source": [
        "<a href=\"https://colab.research.google.com/github/EYan02/my-fist-web-site/blob/main/lecture_pp_w02.ipynb\" target=\"_parent\"><img src=\"https://colab.research.google.com/assets/colab-badge.svg\" alt=\"Open In Colab\"/></a>"
      ]
    },
    {
      "cell_type": "markdown",
      "source": [
        "# 데이터 저장하기 - 개요\n",
        "* 학습목표\n",
        "  - 변수의 개념을 이해할 수 있다.\n",
        "  - 변수를 선언하여 사용할 수 있다.\n",
        "  - 키보드로 데이터를 직접 입력하여 변수에 저장할 수 있다.\n",
        "  \n",
        "* 목차\n",
        "  - 데이터를 저장하는 변수\n",
        "  - 변수에 이름 붙이기\n",
        "  - 데이터를 직접 입력받기\n"
      ],
      "metadata": {
        "id": "2uYPhy6G2nXT"
      }
    },
    {
      "cell_type": "markdown",
      "source": [
        "# 데이터를 저장하는 변수\n",
        "* 학습목표\n",
        "  - 변수를 사용하는 이유를 이해할 수 있다.\n",
        "  - 변수에 숫자 데이터를 저장할 수 있다.\n",
        "  - 변수에 문자 데이터를 저장할 수 있다."
      ],
      "metadata": {
        "id": "PdcbsgUJ3c9Z"
      }
    },
    {
      "cell_type": "markdown",
      "source": [
        "## 변수를 사용하는 이유\n",
        "* 삼각형의 넓이를 구해봅시다.  "
      ],
      "metadata": {
        "id": "8D0hiNot4Mvq"
      }
    },
    {
      "cell_type": "code",
      "execution_count": null,
      "metadata": {
        "id": "zpvRF_BS2k91",
        "colab": {
          "base_uri": "https://localhost:8080/"
        },
        "outputId": "abbd3513-5110-41ea-cd54-983f74a4f71a"
      },
      "outputs": [
        {
          "output_type": "stream",
          "name": "stdout",
          "text": [
            "25.0\n"
          ]
        }
      ],
      "source": [
        "print(10 * 5 / 2)"
      ]
    },
    {
      "cell_type": "markdown",
      "source": [
        "* 삼각형의 넓이를 더 계산해 봅시다."
      ],
      "metadata": {
        "id": "vqQ790qy5z0K"
      }
    },
    {
      "cell_type": "code",
      "source": [
        "print(20 * 10 / 2)\n",
        "print(100 * 38 / 2)\n",
        "print(47 * 22 / 2)"
      ],
      "metadata": {
        "id": "JECiRNso6QUh",
        "colab": {
          "base_uri": "https://localhost:8080/"
        },
        "outputId": "dfc640d3-59e2-49e2-f1c2-8935f8b51072"
      },
      "execution_count": null,
      "outputs": [
        {
          "output_type": "stream",
          "name": "stdout",
          "text": [
            "100.0\n",
            "1900.0\n",
            "517.0\n"
          ]
        }
      ]
    },
    {
      "cell_type": "markdown",
      "source": [
        "* 패턴을 찾아봅시다.\n",
        "\n",
        "* 삼각형의 넓이를 구하는 프로그램으로 확장해 봅시다."
      ],
      "metadata": {
        "id": "WW6AFmEB6dV3"
      }
    },
    {
      "cell_type": "code",
      "source": [
        "print(width * height / 2)"
      ],
      "metadata": {
        "id": "ezUJhhBt65CU",
        "colab": {
          "base_uri": "https://localhost:8080/",
          "height": 165
        },
        "outputId": "7e4a5b26-0107-4324-fc06-202d010e98e8"
      },
      "execution_count": null,
      "outputs": [
        {
          "output_type": "error",
          "ename": "NameError",
          "evalue": "ignored",
          "traceback": [
            "\u001b[0;31m---------------------------------------------------------------------------\u001b[0m",
            "\u001b[0;31mNameError\u001b[0m                                 Traceback (most recent call last)",
            "\u001b[0;32m<ipython-input-3-7494ead40e83>\u001b[0m in \u001b[0;36m<module>\u001b[0;34m\u001b[0m\n\u001b[0;32m----> 1\u001b[0;31m \u001b[0mprint\u001b[0m\u001b[0;34m(\u001b[0m\u001b[0mwidth\u001b[0m \u001b[0;34m*\u001b[0m \u001b[0mheight\u001b[0m \u001b[0;34m/\u001b[0m \u001b[0;36m2\u001b[0m\u001b[0;34m)\u001b[0m\u001b[0;34m\u001b[0m\u001b[0;34m\u001b[0m\u001b[0m\n\u001b[0m",
            "\u001b[0;31mNameError\u001b[0m: name 'width' is not defined"
          ]
        }
      ]
    },
    {
      "cell_type": "markdown",
      "source": [
        "* 에러가 발생했습니다!\n"
      ],
      "metadata": {
        "id": "NBQwqJz47rQg"
      }
    },
    {
      "cell_type": "code",
      "source": [
        "width = 10\n",
        "height = 5\n",
        "print(width * height / 2)"
      ],
      "metadata": {
        "id": "c8NE-Ecl78xR",
        "colab": {
          "base_uri": "https://localhost:8080/"
        },
        "outputId": "1aa16908-5ced-479b-9f10-22ff39f105f0"
      },
      "execution_count": null,
      "outputs": [
        {
          "output_type": "stream",
          "name": "stdout",
          "text": [
            "25.0\n"
          ]
        }
      ]
    },
    {
      "cell_type": "markdown",
      "source": [
        "* 위 프로그램에서 밑변 width 과 높이 height 는 변수 variable 입니다."
      ],
      "metadata": {
        "id": "vy34z8lt9HXQ"
      }
    },
    {
      "cell_type": "code",
      "source": [
        "width = 100\n",
        "print(width)"
      ],
      "metadata": {
        "id": "LMoP8Xjv-NPB",
        "colab": {
          "base_uri": "https://localhost:8080/"
        },
        "outputId": "a8132138-686f-412d-e7b7-b75c80f334b6"
      },
      "execution_count": null,
      "outputs": [
        {
          "output_type": "stream",
          "name": "stdout",
          "text": [
            "100\n"
          ]
        }
      ]
    },
    {
      "cell_type": "markdown",
      "source": [
        "* 변수를 사용하기 위해서는 = equal 을 사용합니다.\n",
        "\n",
        "* = 을 이용하여 우리는 컴퓨터에 무언가를 저장할 수 있게 되었습니다.  "
      ],
      "metadata": {
        "id": "G-C58Tx3-aPC"
      }
    },
    {
      "cell_type": "markdown",
      "source": [
        "## 변수에 숫자 데이터 저장하기\n",
        "* 변수를 사용하면 한 번 저장한 데이터를 여러번 사용할 수 있습니다. 즉 재사용이 가능합니다.\n",
        "\n",
        "* 원의 넓이를 계산해 봅시다.  "
      ],
      "metadata": {
        "id": "KVBixs5FCaJT"
      }
    },
    {
      "cell_type": "code",
      "source": [
        "print(10 * 10 * 3.14)"
      ],
      "metadata": {
        "id": "rBCwv-X5-Zti",
        "colab": {
          "base_uri": "https://localhost:8080/"
        },
        "outputId": "56060737-3149-40ee-b250-41f7707ffc14"
      },
      "execution_count": null,
      "outputs": [
        {
          "output_type": "stream",
          "name": "stdout",
          "text": [
            "314.0\n"
          ]
        }
      ]
    },
    {
      "cell_type": "markdown",
      "source": [
        "* 원의 넓이를 계산하는 프로그램으로 확장해 봅시다."
      ],
      "metadata": {
        "id": "a8N6NkClDCKs"
      }
    },
    {
      "cell_type": "code",
      "source": [
        "pi = 3.14\n",
        "radius = 10\n",
        "print(radius * radius * pi)"
      ],
      "metadata": {
        "id": "QJzFPItxCTuy",
        "colab": {
          "base_uri": "https://localhost:8080/"
        },
        "outputId": "f3aee44a-a519-4ddc-c669-797d8840f78a"
      },
      "execution_count": null,
      "outputs": [
        {
          "output_type": "stream",
          "name": "stdout",
          "text": [
            "314.0\n"
          ]
        }
      ]
    },
    {
      "cell_type": "markdown",
      "source": [
        "* pi 값을 소수점 얼마까지 저장하는가에 따라 정밀한 프로그램으로 바꿀 수 있습니다."
      ],
      "metadata": {
        "id": "KYaTlbg_DoPA"
      }
    },
    {
      "cell_type": "code",
      "source": [
        "pi = 3.1415926535\n",
        "radius = 10\n",
        "print(radius * radius * pi)"
      ],
      "metadata": {
        "id": "vqYBEUmlD52C",
        "colab": {
          "base_uri": "https://localhost:8080/"
        },
        "outputId": "6c00fb8a-7f53-405c-85bc-e2e989ba24f2"
      },
      "execution_count": null,
      "outputs": [
        {
          "output_type": "stream",
          "name": "stdout",
          "text": [
            "314.15926535\n"
          ]
        }
      ]
    },
    {
      "cell_type": "markdown",
      "source": [
        "* 정리해 봅시다.\n",
        "  - 변수를 사용하면 데이터를 저장할 수 있습니다.\n",
        "  - 변수는 여러번 사용할 수 있습니다.\n",
        "  - 변수에 값을 여러번 저장할 수 있습니다.\n",
        "  - 변수에 값을 저장하기 위해서는 대입 연산자인 = 을 사용합니다.\n",
        "  - 의미 있는 변수 이름을 사용하면, 데이터의 의미를 쉽게 이해할 수 있습니다."
      ],
      "metadata": {
        "id": "CewcR-ZyEGDk"
      }
    },
    {
      "cell_type": "markdown",
      "source": [
        "## 변수에 문자 데이터 저장하기\n"
      ],
      "metadata": {
        "id": "ZZ1Jt6RKFCeA"
      }
    },
    {
      "cell_type": "markdown",
      "source": [
        "* 문자 데이터는 작은 따옴표('') 또는 큰 따옴표(\"\") 를 이용하여 저장합니다."
      ],
      "metadata": {
        "id": "7xqYgiIGZu4c"
      }
    },
    {
      "cell_type": "code",
      "source": [
        "sentence = 'hello world!'\n",
        "print(sentence)"
      ],
      "metadata": {
        "id": "1hNym0seqU44",
        "colab": {
          "base_uri": "https://localhost:8080/"
        },
        "outputId": "d1242567-5cb8-46e0-f8bd-29e2fbcc9c60"
      },
      "execution_count": null,
      "outputs": [
        {
          "output_type": "stream",
          "name": "stdout",
          "text": [
            "hello world!\n"
          ]
        }
      ]
    },
    {
      "cell_type": "markdown",
      "source": [
        "* 문자 데이터 안에 작은 따옴표 또는 큰 따옴표를 같이 저장하기 위해서는 어떻게 해야 할까요?"
      ],
      "metadata": {
        "id": "JhepSIxMZ0r8"
      }
    },
    {
      "cell_type": "code",
      "source": [
        "sentence = ''Good day' he thought.'\n",
        "print(sentence)"
      ],
      "metadata": {
        "id": "6ahPtGyOrJI-",
        "colab": {
          "base_uri": "https://localhost:8080/",
          "height": 130
        },
        "outputId": "949412e9-e1be-4172-e6cd-3bab258df0ef"
      },
      "execution_count": null,
      "outputs": [
        {
          "output_type": "error",
          "ename": "SyntaxError",
          "evalue": "ignored",
          "traceback": [
            "\u001b[0;36m  File \u001b[0;32m\"<ipython-input-10-6b300ce1881c>\"\u001b[0;36m, line \u001b[0;32m1\u001b[0m\n\u001b[0;31m    sentence = ''Good day' he thought.'\u001b[0m\n\u001b[0m                 ^\u001b[0m\n\u001b[0;31mSyntaxError\u001b[0m\u001b[0;31m:\u001b[0m invalid syntax\n"
          ]
        }
      ]
    },
    {
      "cell_type": "code",
      "source": [
        "sentence = \"'Good day' he thought.\"\n",
        "print(sentence)"
      ],
      "metadata": {
        "id": "_H7JouQ7sDOx",
        "colab": {
          "base_uri": "https://localhost:8080/"
        },
        "outputId": "3f277048-159d-4c53-a0f5-97c115160da5"
      },
      "execution_count": null,
      "outputs": [
        {
          "output_type": "stream",
          "name": "stdout",
          "text": [
            "'Good day' he thought.\n"
          ]
        }
      ]
    },
    {
      "cell_type": "markdown",
      "source": [
        "# 변수에 이름 붙이기\n",
        "* 학습목표\n",
        "  - 사용가능한 변수명과 불가능한 변수명을 구분할 수 있다.\n",
        "  - 프로그래밍 언어의 변수 표기법을 이해할 수 있다.\n",
        "  - 파이썬에서 좋은 변수명을 짓는 방법을 이해할 수 있다.\n",
        "\n"
      ],
      "metadata": {
        "id": "Ohp5TRSyFbiI"
      }
    },
    {
      "cell_type": "markdown",
      "source": [
        "## 변수 이름을 정하는 방법\n",
        "* 변수에 이름 붙이는 방법\n",
        "  - 영문(소문자, 대문자), 숫자, 기호(_)를 조합해서 만든다.\n",
        "  - 대소문자를 구분한다.\n",
        "  - 변수명은 영문 또는 기호로 시작해야 한다.(숫자로 시작할 수 없다.)\n",
        "  - 공백을 포함할 수 없다.\n",
        "  - 파이썬에 이미 사용되는 이름은 사용할 수 없다."
      ],
      "metadata": {
        "id": "VtEflLBnIWXm"
      }
    },
    {
      "cell_type": "code",
      "source": [
        "three = 3\n",
        "three3 = 3\n",
        "three_3 = 3\n",
        "print(three)\n",
        "print(three3)\n",
        "print(three_3)\n",
        "Three = 4\n",
        "print(Three)\n",
        "_three = 3\n",
        "#3three = 3\n",
        "#print(3three)\n",
        "#three 3 = 3\n",
        "#print(three 3)\n",
        "print = 3\n",
        "print(print)"
      ],
      "metadata": {
        "id": "3VRb3cv5aFzm",
        "colab": {
          "base_uri": "https://localhost:8080/",
          "height": 130
        },
        "outputId": "549c16e4-e1b5-4095-e8cc-74d96713d2f5"
      },
      "execution_count": null,
      "outputs": [
        {
          "output_type": "error",
          "ename": "SyntaxError",
          "evalue": "ignored",
          "traceback": [
            "\u001b[0;36m  File \u001b[0;32m\"<ipython-input-20-95b4a363c0a6>\"\u001b[0;36m, line \u001b[0;32m12\u001b[0m\n\u001b[0;31m    three 3 = 3\u001b[0m\n\u001b[0m          ^\u001b[0m\n\u001b[0;31mSyntaxError\u001b[0m\u001b[0;31m:\u001b[0m invalid syntax\n"
          ]
        }
      ]
    },
    {
      "cell_type": "markdown",
      "source": [
        "* 변수 이름을 의미있게 정해야 하는 이유"
      ],
      "metadata": {
        "id": "XvKlH51GaQMt"
      }
    },
    {
      "cell_type": "code",
      "source": [
        "a = 10\n",
        "b = 3.14\n",
        "c = a * a * b\n",
        "print(c)"
      ],
      "metadata": {
        "id": "kQ5vJ4IutNI5",
        "colab": {
          "base_uri": "https://localhost:8080/"
        },
        "outputId": "9cc2a920-a026-4159-e326-100ea384fb09"
      },
      "execution_count": null,
      "outputs": [
        {
          "output_type": "stream",
          "name": "stdout",
          "text": [
            "314.0\n"
          ]
        }
      ]
    },
    {
      "cell_type": "code",
      "source": [
        "radius = 10\n",
        "pi = 3.14\n",
        "area = radius * radius * pi\n",
        "print(area)"
      ],
      "metadata": {
        "id": "mDc8S8EHtozO",
        "colab": {
          "base_uri": "https://localhost:8080/"
        },
        "outputId": "080bf0fd-7508-4f52-d232-4ee4076872dc"
      },
      "execution_count": null,
      "outputs": [
        {
          "output_type": "stream",
          "name": "stdout",
          "text": [
            "314.0\n"
          ]
        }
      ]
    },
    {
      "cell_type": "markdown",
      "source": [
        "## 두 개 이상의 단어를 연결한다면?"
      ],
      "metadata": {
        "id": "XydY6niCIcWl"
      }
    },
    {
      "cell_type": "markdown",
      "source": [
        "* 두 개의 단어를 첫 문자를 대문자로 해서 합치기 : 파스칼 표기법 PascalCase"
      ],
      "metadata": {
        "id": "KcGUpQK3aXFK"
      }
    },
    {
      "cell_type": "code",
      "source": [
        "radius = 10\n",
        "pi = 3.14\n",
        "CircleArea = radius * radius * pi\n",
        "print(CircleArea)"
      ],
      "metadata": {
        "id": "g814CBBbxI1X",
        "colab": {
          "base_uri": "https://localhost:8080/"
        },
        "outputId": "a96be46f-a6c8-4674-f454-894053e26101"
      },
      "execution_count": null,
      "outputs": [
        {
          "output_type": "stream",
          "name": "stdout",
          "text": [
            "314.0\n"
          ]
        }
      ]
    },
    {
      "cell_type": "markdown",
      "source": [
        "* 두 개의 단어를 합칠 때, 두 번째 단어부터 시작을 대문자로 작성하기 : 카멜 표기법 camelCase"
      ],
      "metadata": {
        "id": "SvEYf6krao05"
      }
    },
    {
      "cell_type": "code",
      "source": [
        "radius = 10\n",
        "pi = 3.14\n",
        "circleArea = radius * radius * pi\n",
        "print(circleArea)"
      ],
      "metadata": {
        "id": "TqEaBWrPyDMj",
        "colab": {
          "base_uri": "https://localhost:8080/"
        },
        "outputId": "58dc211e-19ea-45aa-d961-934c59f99e35"
      },
      "execution_count": null,
      "outputs": [
        {
          "output_type": "stream",
          "name": "stdout",
          "text": [
            "314.0\n"
          ]
        }
      ]
    },
    {
      "cell_type": "markdown",
      "source": [
        "* 두 개의 단어를 합칠 때 사이에 밑줄을 추가하기 : 스네이크 표기법 snake_case"
      ],
      "metadata": {
        "id": "KI2mRd6wadio"
      }
    },
    {
      "cell_type": "code",
      "source": [
        "radius = 10\n",
        "pi = 3.14\n",
        "circle_area = radius * radius * pi\n",
        "print(circle_area)"
      ],
      "metadata": {
        "id": "1PZfgR3HxteL",
        "colab": {
          "base_uri": "https://localhost:8080/"
        },
        "outputId": "79b1f1b5-431e-4191-fb36-8cbdd3481b57"
      },
      "execution_count": null,
      "outputs": [
        {
          "output_type": "stream",
          "name": "stdout",
          "text": [
            "314.0\n"
          ]
        }
      ]
    },
    {
      "cell_type": "markdown",
      "source": [
        "## 파이썬스러운 변수 이름을 짓는 방법\n",
        "* 파이썬 코딩 스타일 가이드 PEP 8 Style Guide for Python Code [링크](https://peps.python.org/pep-0008/#function-and-variable-names)"
      ],
      "metadata": {
        "id": "UDKsZCSbIiH3"
      }
    },
    {
      "cell_type": "markdown",
      "source": [
        "* 사각형의 넓이를 구하는 코드를 파이썬 코드 답게 수정하기"
      ],
      "metadata": {
        "id": "6JwWU_wobENQ"
      }
    },
    {
      "cell_type": "code",
      "source": [
        "w = 10\n",
        "h = 5\n",
        "a = w * h / 2\n",
        "print(f\"너비 {w}cm, 높이 {h}cm 인 사각형의 넓이는 {a}cm² 입니다.\")"
      ],
      "metadata": {
        "id": "iv1BYCMt0vV_",
        "colab": {
          "base_uri": "https://localhost:8080/"
        },
        "outputId": "f601ff1c-250b-4969-b58f-13e5aceed3e4"
      },
      "execution_count": null,
      "outputs": [
        {
          "output_type": "stream",
          "name": "stdout",
          "text": [
            "너비 10cm, 높이 5cm 인 사각형의 넓이는 25.0cm 입니다.\n"
          ]
        }
      ]
    },
    {
      "cell_type": "code",
      "source": [
        "width = 10\n",
        "height = 5\n",
        "rect_area = width * height / 2\n",
        "print(f\"너비 {width}cm, 높이 {height}cm 인 사각형의 넓이는 {rect_area}cm² 입니다.\")"
      ],
      "metadata": {
        "id": "SbQ6JE4izFVe",
        "colab": {
          "base_uri": "https://localhost:8080/"
        },
        "outputId": "dd73c603-1020-4e85-fb5b-389bd2b12dd9"
      },
      "execution_count": null,
      "outputs": [
        {
          "output_type": "stream",
          "name": "stdout",
          "text": [
            "너비 10cm, 높이 5cm 인 사각형의 넓이는 25.0cm 입니다.\n"
          ]
        }
      ]
    },
    {
      "cell_type": "markdown",
      "source": [
        "* print() 함수에서 문자와 변수를 함께 출력하는 방법\n",
        "  - f-string 기능\n",
        "  - 서식문자\n",
        "  - format() 함수"
      ],
      "metadata": {
        "id": "RQ3oZP7RbKvA"
      }
    },
    {
      "cell_type": "code",
      "source": [
        "width = 10\n",
        "height = 5\n",
        "rect_area = width * height / 2\n",
        "print(\"너비 %dcm, 높이 %dcm 인 사각형의 넓이는 %dcm² 입니다.\" % (width, height, rect_area))"
      ],
      "metadata": {
        "id": "9TRQyFlL8MX0",
        "colab": {
          "base_uri": "https://localhost:8080/"
        },
        "outputId": "624cf62a-2e61-49f3-adbb-ce68e670ae7d"
      },
      "execution_count": null,
      "outputs": [
        {
          "output_type": "stream",
          "name": "stdout",
          "text": [
            "너비 10cm, 높이 5cm 인 사각형의 넓이는 25cm 입니다.\n"
          ]
        }
      ]
    },
    {
      "cell_type": "code",
      "source": [
        "width = 10\n",
        "height = 5\n",
        "rect_area = width * height / 2\n",
        "print(\"너비 {0}cm, 높이 {1}cm 인 사각형의 넓이는 {2}cm² 입니다.\".format(width, height, rect_area))"
      ],
      "metadata": {
        "id": "GSJ2-Qzh8b1N",
        "colab": {
          "base_uri": "https://localhost:8080/"
        },
        "outputId": "aea44ea7-4284-42be-a2c6-ca6323b0ee0f"
      },
      "execution_count": null,
      "outputs": [
        {
          "output_type": "stream",
          "name": "stdout",
          "text": [
            "너비 10cm, 높이 5cm 인 사각형의 넓이는 25.0cm 입니다.\n"
          ]
        }
      ]
    },
    {
      "cell_type": "markdown",
      "source": [
        "# 데이터를 직접 입력받기\n",
        "* 학습목표\n",
        "  - 데이터를 입력받는 함수를 사용할 수 있다.  \n",
        "  - 문자 데이터를 입력받을 수 있다.\n",
        "  - 숫자 데이터를 입력받을 수 있다."
      ],
      "metadata": {
        "id": "GF8DzRCBGcu2"
      }
    },
    {
      "cell_type": "markdown",
      "source": [
        "## 문자 데이터 입력받기\n",
        "* 파이썬에서 데이터를 입력받는 방법 검색 : python input function [링크](https://www.google.com/search?q=python+input+function&newwindow=1&ei=mpGzY--1MbfL2roP3o6qmAI&ved=0ahUKEwjv6oGErKr8AhW3pVYBHV6HCiMQ4dUDCA8&uact=5&oq=python+input+function&gs_lcp=Cgxnd3Mtd2l6LXNlcnAQAzIFCAAQgAQyBQgAEIAEMgUIABCABDIFCAAQgAQyBQgAEIAEMgUIABCABDIFCAAQgAQyBAgAEB4yBAgAEB4yBAgAEB46CggAEEcQ1gQQsANKBAhBGABKBAhGGABQnwNYnwNgxgZoAXABeACAAW-IAW-SAQMwLjGYAQCgAQKgAQHIAQrAAQE&sclient=gws-wiz-serp)"
      ],
      "metadata": {
        "id": "zPjUhWA1IoWm"
      }
    },
    {
      "cell_type": "markdown",
      "source": [
        "* input() 함수를 이용하여 문자 데이터 입력 받기"
      ],
      "metadata": {
        "id": "HdQPr1qUb8a1"
      }
    },
    {
      "cell_type": "code",
      "source": [
        "name = input(\"이름을 입력하세요: \")\n",
        "print(\"hello, \" + name)"
      ],
      "metadata": {
        "id": "Xc-Vec8g_HVC",
        "colab": {
          "base_uri": "https://localhost:8080/"
        },
        "outputId": "1c493708-cd93-4048-9bdf-6cae4b80e34e"
      },
      "execution_count": null,
      "outputs": [
        {
          "output_type": "stream",
          "name": "stdout",
          "text": [
            "이름을 입력하세요: python\n",
            "hello, python\n"
          ]
        }
      ]
    },
    {
      "cell_type": "code",
      "source": [
        "type(name)"
      ],
      "metadata": {
        "id": "34Mi3P4pASm4",
        "colab": {
          "base_uri": "https://localhost:8080/"
        },
        "outputId": "74e044e7-b11e-4cde-c7fb-67ea16be5a7b"
      },
      "execution_count": null,
      "outputs": [
        {
          "output_type": "execute_result",
          "data": {
            "text/plain": [
              "str"
            ]
          },
          "metadata": {},
          "execution_count": 31
        }
      ]
    },
    {
      "cell_type": "markdown",
      "source": [
        "* 사용자의 이름과 MBTI를 입력받아 출력하는 코드"
      ],
      "metadata": {
        "id": "AGPw8iQpb22A"
      }
    },
    {
      "cell_type": "code",
      "source": [
        "name = input(\"이름을 입력하세요: \")\n",
        "mbti = input(\"MBTI를 입력하세요: \")\n",
        "print(\"당신의 이름은 \" + name + \"이고, 당신의 MBTI는 \" + mbti + \"입니다.\")"
      ],
      "metadata": {
        "id": "PvyzNk0-Ba2A",
        "colab": {
          "base_uri": "https://localhost:8080/"
        },
        "outputId": "b1b7224f-36b5-4c16-bdb5-f62ab626e5e8"
      },
      "execution_count": null,
      "outputs": [
        {
          "output_type": "stream",
          "name": "stdout",
          "text": [
            "이름을 입력하세요: python\n",
            "MBTI를 입력하세요: enfp\n",
            "당신의 이름은 python이고, 당신의 MBTI는 enfp입니다.\n"
          ]
        }
      ]
    },
    {
      "cell_type": "markdown",
      "source": [
        "## 숫자 데이터 입력받기\n",
        "* input() 함수를 이용하여 숫자 데이터 입력 받기"
      ],
      "metadata": {
        "id": "KD1xGZwrIvbx"
      }
    },
    {
      "cell_type": "code",
      "source": [
        "radius = input(\"반지름의 길이를 입력하세요: \")\n",
        "pi = 3.14\n",
        "circle_area = radius * radius * pi\n",
        "print(\"원의 넓이는 \" + circle_area + \"입니다.\")"
      ],
      "metadata": {
        "id": "2Ib36UOFCTUF",
        "colab": {
          "base_uri": "https://localhost:8080/",
          "height": 235
        },
        "outputId": "1c4ee4d5-abf0-4c66-fc8a-c11b87369d40"
      },
      "execution_count": null,
      "outputs": [
        {
          "name": "stdout",
          "output_type": "stream",
          "text": [
            "반지름의 길이를 입력하세요: 10\n"
          ]
        },
        {
          "output_type": "error",
          "ename": "TypeError",
          "evalue": "ignored",
          "traceback": [
            "\u001b[0;31m---------------------------------------------------------------------------\u001b[0m",
            "\u001b[0;31mTypeError\u001b[0m                                 Traceback (most recent call last)",
            "\u001b[0;32m<ipython-input-33-6acc7f01b029>\u001b[0m in \u001b[0;36m<module>\u001b[0;34m\u001b[0m\n\u001b[1;32m      1\u001b[0m \u001b[0mradius\u001b[0m \u001b[0;34m=\u001b[0m \u001b[0minput\u001b[0m\u001b[0;34m(\u001b[0m\u001b[0;34m\"반지름의 길이를 입력하세요: \"\u001b[0m\u001b[0;34m)\u001b[0m\u001b[0;34m\u001b[0m\u001b[0;34m\u001b[0m\u001b[0m\n\u001b[1;32m      2\u001b[0m \u001b[0mpi\u001b[0m \u001b[0;34m=\u001b[0m \u001b[0;36m3.14\u001b[0m\u001b[0;34m\u001b[0m\u001b[0;34m\u001b[0m\u001b[0m\n\u001b[0;32m----> 3\u001b[0;31m \u001b[0mcircle_area\u001b[0m \u001b[0;34m=\u001b[0m \u001b[0mradius\u001b[0m \u001b[0;34m*\u001b[0m \u001b[0mradius\u001b[0m \u001b[0;34m*\u001b[0m \u001b[0mpi\u001b[0m\u001b[0;34m\u001b[0m\u001b[0;34m\u001b[0m\u001b[0m\n\u001b[0m\u001b[1;32m      4\u001b[0m \u001b[0mprint\u001b[0m\u001b[0;34m(\u001b[0m\u001b[0;34m\"원의 넓이는 \"\u001b[0m \u001b[0;34m+\u001b[0m \u001b[0mcircle_area\u001b[0m \u001b[0;34m+\u001b[0m \u001b[0;34m\"입니다.\"\u001b[0m\u001b[0;34m)\u001b[0m\u001b[0;34m\u001b[0m\u001b[0;34m\u001b[0m\u001b[0m\n",
            "\u001b[0;31mTypeError\u001b[0m: can't multiply sequence by non-int of type 'str'"
          ]
        }
      ]
    },
    {
      "cell_type": "markdown",
      "source": [
        "* 숫자를 입력받는 방법 검색 : python string to integer [링크](https://www.google.com/search?q=python+string+to+integer&oq=python+string+to+integer&aqs=chrome..69i57.463j0j7&sourceid=chrome&ie=UTF-8)\n",
        "\n",
        "* int() 함수로 데이터 타입을 정수형 숫자로 변경하기"
      ],
      "metadata": {
        "id": "tDEGkJ9hcGxz"
      }
    },
    {
      "cell_type": "code",
      "source": [
        "s = \"10\"\n",
        "n = int(s)\n",
        "print(n)\n",
        "print(type(n))"
      ],
      "metadata": {
        "id": "d57_TJ3ZEPvj",
        "colab": {
          "base_uri": "https://localhost:8080/"
        },
        "outputId": "440cd8a2-1a01-4015-ebea-a980ad33eeeb"
      },
      "execution_count": null,
      "outputs": [
        {
          "output_type": "stream",
          "name": "stdout",
          "text": [
            "10\n",
            "<class 'int'>\n"
          ]
        }
      ]
    },
    {
      "cell_type": "code",
      "source": [
        "radius = int(input(\"반지름의 길이를 입력하세요: \"))\n",
        "pi = 3.14\n",
        "circle_area = radius * radius * pi\n",
        "print(\"원의 넓이는 \" + circle_area + \"입니다.\")"
      ],
      "metadata": {
        "id": "zyEeZE-pHgAg",
        "colab": {
          "base_uri": "https://localhost:8080/",
          "height": 217
        },
        "outputId": "fc2d48ff-168e-4280-ecbc-87b318a4d9a5"
      },
      "execution_count": null,
      "outputs": [
        {
          "name": "stdout",
          "output_type": "stream",
          "text": [
            "반지름의 길이를 입력하세요: 10\n"
          ]
        },
        {
          "output_type": "error",
          "ename": "TypeError",
          "evalue": "ignored",
          "traceback": [
            "\u001b[0;31m---------------------------------------------------------------------------\u001b[0m",
            "\u001b[0;31mTypeError\u001b[0m                                 Traceback (most recent call last)",
            "\u001b[0;32m<ipython-input-35-bad520a6a580>\u001b[0m in \u001b[0;36m<module>\u001b[0;34m\u001b[0m\n\u001b[1;32m      2\u001b[0m \u001b[0mpi\u001b[0m \u001b[0;34m=\u001b[0m \u001b[0;36m3.14\u001b[0m\u001b[0;34m\u001b[0m\u001b[0;34m\u001b[0m\u001b[0m\n\u001b[1;32m      3\u001b[0m \u001b[0mcircle_area\u001b[0m \u001b[0;34m=\u001b[0m \u001b[0mradius\u001b[0m \u001b[0;34m*\u001b[0m \u001b[0mradius\u001b[0m \u001b[0;34m*\u001b[0m \u001b[0mpi\u001b[0m\u001b[0;34m\u001b[0m\u001b[0;34m\u001b[0m\u001b[0m\n\u001b[0;32m----> 4\u001b[0;31m \u001b[0mprint\u001b[0m\u001b[0;34m(\u001b[0m\u001b[0;34m\"원의 넓이는 \"\u001b[0m \u001b[0;34m+\u001b[0m \u001b[0mcircle_area\u001b[0m \u001b[0;34m+\u001b[0m \u001b[0;34m\"입니다.\"\u001b[0m\u001b[0;34m)\u001b[0m\u001b[0;34m\u001b[0m\u001b[0;34m\u001b[0m\u001b[0m\n\u001b[0m",
            "\u001b[0;31mTypeError\u001b[0m: can only concatenate str (not \"float\") to str"
          ]
        }
      ]
    },
    {
      "cell_type": "markdown",
      "source": [
        "* 숫자 데이터를 문자 데이터로 바꾸는 함수 검색 : python integer to string [링크](https://www.google.com/search?q=python+integer+to+string&newwindow=1&ei=qpGzY4PVF5Pf2roP2MyEoAI&ved=0ahUKEwiD0riLrKr8AhWTr1YBHVgmASQQ4dUDCA8&uact=5&oq=python+integer+to+string&gs_lcp=Cgxnd3Mtd2l6LXNlcnAQAzIFCAAQgAQyBQgAEIAEMgUIABCABDIFCAAQgAQyBQgAEIAEMgQIABAeMgQIABAeMgQIABAeMgQIABAeMgQIABAeOgoIABBHENYEELADSgQIQRgASgQIRhgAUMYDWMYDYM0KaAFwAXgAgAFsiAFskgEDMC4xmAEAoAECoAEByAEKwAEB&sclient=gws-wiz-serp)"
      ],
      "metadata": {
        "id": "_4QjdXIAcdKo"
      }
    },
    {
      "cell_type": "code",
      "source": [
        "n = 10\n",
        "s = str(n)\n",
        "print(s)\n",
        "print(type(s))"
      ],
      "metadata": {
        "id": "9wLKsDaiGei3",
        "colab": {
          "base_uri": "https://localhost:8080/"
        },
        "outputId": "021de36f-1dbe-41a1-d770-2ec577cf4b9f"
      },
      "execution_count": null,
      "outputs": [
        {
          "output_type": "stream",
          "name": "stdout",
          "text": [
            "10\n",
            "<class 'str'>\n"
          ]
        }
      ]
    },
    {
      "cell_type": "code",
      "source": [
        "radius = int(input(\"반지름의 길이를 입력하세요: \"))\n",
        "pi = 3.14\n",
        "circle_area = radius * radius * pi\n",
        "print(\"원의 넓이는 \" + str(circle_area) + \"입니다.\")"
      ],
      "metadata": {
        "id": "beMfFR3YIuLJ",
        "colab": {
          "base_uri": "https://localhost:8080/"
        },
        "outputId": "43e28ea7-2e9e-40e1-c5c3-cd8cac584218"
      },
      "execution_count": null,
      "outputs": [
        {
          "output_type": "stream",
          "name": "stdout",
          "text": [
            "반지름의 길이를 입력하세요: 10\n",
            "원의 넓이는 314.0입니다.\n"
          ]
        }
      ]
    },
    {
      "cell_type": "markdown",
      "source": [
        "# 요약하기\n",
        "* 데이터를 저장하는 변수\n",
        "  - 변수란, 데이터를 저장하는 공간이자 공간의 이름\n",
        "  - 변수에 데이터를 저장하기 위해서는 대입 연산자 = 을 사용한다.\n",
        "* 변수에 이름 붙이기\n",
        "  - 변수 이름을 정하는 방법\n",
        "    - 영문(소문자, 대문자), 숫자, 기호(_)를 조합해서 만든다.  \n",
        "    - 변수명은 영문 또는 기호로 시작해야 한다.(숫자로 시작할 수 없다.)\n",
        "    - 공백을 포함할 수 없다.\n",
        "    - 파이썬에 이미 사용되는 이름은 사용할 수 없다.\n",
        "  - 두 개 이상의 단어를 연결하는 방법 : 카멜 표기법, 파스칼 표기법, 스네이크 표기법\n",
        "  - 파이썬스러운 변수 이름 : 스네이크 표기법(hello_world)\n",
        "* 데이터를 직접 입력받는 함수\n",
        "  - 문자 데이터 입력받기 : input()\n",
        "  - 숫자 데이터로 바꾸기 : int()\n",
        "  - 문자 데이터로 바꾸기 : str()\n"
      ],
      "metadata": {
        "id": "axiTsi9DG745"
      }
    },
    {
      "cell_type": "markdown",
      "source": [
        "# 퀴즈\n",
        "1. 변수에 대한 설명으로 올바른 것을 고르시오.\n",
        "  1. 변수란 데이터를 저장하는 공간이다.\n",
        "  1. 변수에 데이터를 저장하면 수정할 수 없다.\n",
        "  1. 변수 이름은 숫자로 시작할 수 있다.\n",
        "  1. 변수에 데이터를 저장하기 위해서는 () 를 사용한다.\n",
        "  \n",
        "2. 학생의 나이를 변수로 저장하려고 할 때, 파이썬스러운 변수 이름을 지어보세요.(student 와 age 를 연결하려고 한다.)\n",
        "\n",
        "3. 다음 파이썬 코드를 실행하면 에러가 발생합니다. 제대로 동작하도록 코드를 수정해 보세요.\n",
        "\n"
      ],
      "metadata": {
        "id": "WE6kWSuYHNoH"
      }
    },
    {
      "cell_type": "code",
      "source": [
        "width = input(\"밑변의 값: \")\n",
        "height = input(\"높이의 값: \")\n",
        "area = width * height\n",
        "print(f\"삼각형의 넓이는 {area} 입니다.\")"
      ],
      "metadata": {
        "id": "ril3MtCnKgdq",
        "colab": {
          "base_uri": "https://localhost:8080/",
          "height": 252
        },
        "outputId": "0adecf0a-7931-4281-e05e-6ddbf63ca375"
      },
      "execution_count": null,
      "outputs": [
        {
          "name": "stdout",
          "output_type": "stream",
          "text": [
            "밑변의 값: 10\n",
            "높이의 값: 5\n"
          ]
        },
        {
          "output_type": "error",
          "ename": "TypeError",
          "evalue": "ignored",
          "traceback": [
            "\u001b[0;31m---------------------------------------------------------------------------\u001b[0m",
            "\u001b[0;31mTypeError\u001b[0m                                 Traceback (most recent call last)",
            "\u001b[0;32m<ipython-input-38-8210e7cefa27>\u001b[0m in \u001b[0;36m<module>\u001b[0;34m\u001b[0m\n\u001b[1;32m      1\u001b[0m \u001b[0mwidth\u001b[0m \u001b[0;34m=\u001b[0m \u001b[0minput\u001b[0m\u001b[0;34m(\u001b[0m\u001b[0;34m\"밑변의 값: \"\u001b[0m\u001b[0;34m)\u001b[0m\u001b[0;34m\u001b[0m\u001b[0;34m\u001b[0m\u001b[0m\n\u001b[1;32m      2\u001b[0m \u001b[0mheight\u001b[0m \u001b[0;34m=\u001b[0m \u001b[0minput\u001b[0m\u001b[0;34m(\u001b[0m\u001b[0;34m\"높이의 값: \"\u001b[0m\u001b[0;34m)\u001b[0m\u001b[0;34m\u001b[0m\u001b[0;34m\u001b[0m\u001b[0m\n\u001b[0;32m----> 3\u001b[0;31m \u001b[0marea\u001b[0m \u001b[0;34m=\u001b[0m \u001b[0mwidth\u001b[0m \u001b[0;34m*\u001b[0m \u001b[0mheight\u001b[0m\u001b[0;34m\u001b[0m\u001b[0;34m\u001b[0m\u001b[0m\n\u001b[0m\u001b[1;32m      4\u001b[0m \u001b[0mprint\u001b[0m\u001b[0;34m(\u001b[0m\u001b[0;34mf\"삼각형의 넓이는 {area} 입니다.\"\u001b[0m\u001b[0;34m)\u001b[0m\u001b[0;34m\u001b[0m\u001b[0;34m\u001b[0m\u001b[0m\n",
            "\u001b[0;31mTypeError\u001b[0m: can't multiply sequence by non-int of type 'str'"
          ]
        }
      ]
    },
    {
      "cell_type": "markdown",
      "source": [
        "* 정답\n",
        "1. 1번\n",
        "2. student_age\n",
        "3. int() 함수 사용"
      ],
      "metadata": {
        "id": "KFsvt0WIcxuq"
      }
    },
    {
      "cell_type": "code",
      "source": [
        "width = int(input(\"밑변의 값: \"))\n",
        "height = int(input(\"높이의 값: \"))\n",
        "area = width * height / 2\n",
        "print(f\"삼각형의 넓이는 {area} 입니다.\")"
      ],
      "metadata": {
        "id": "8JqLtF80c2sn",
        "colab": {
          "base_uri": "https://localhost:8080/"
        },
        "outputId": "f85c3dbb-88c7-49de-e3ff-1c381f4663ad"
      },
      "execution_count": null,
      "outputs": [
        {
          "output_type": "stream",
          "name": "stdout",
          "text": [
            "밑변의 값: 10\n",
            "높이의 값: 5\n",
            "삼각형의 넓이는 25.0 입니다.\n"
          ]
        }
      ]
    }
  ]
}